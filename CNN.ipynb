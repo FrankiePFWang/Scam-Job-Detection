{
 "cells": [
  {
   "cell_type": "code",
   "execution_count": 1,
   "id": "162657ce",
   "metadata": {},
   "outputs": [],
   "source": [
    "import numpy as np\n",
    "import pandas as pd\n",
    "import matplotlib.pyplot as plt\n",
    "%matplotlib inline\n",
    "\n",
    "import torch"
   ]
  },
  {
   "cell_type": "markdown",
   "id": "a655441a",
   "metadata": {},
   "source": [
    "# 1.Read Data"
   ]
  },
  {
   "cell_type": "code",
   "execution_count": 230,
   "id": "8f11bc45",
   "metadata": {},
   "outputs": [
    {
     "name": "stdout",
     "output_type": "stream",
     "text": [
      "(17880, 2)\n"
     ]
    },
    {
     "data": {
      "text/html": [
       "<div>\n",
       "<style scoped>\n",
       "    .dataframe tbody tr th:only-of-type {\n",
       "        vertical-align: middle;\n",
       "    }\n",
       "\n",
       "    .dataframe tbody tr th {\n",
       "        vertical-align: top;\n",
       "    }\n",
       "\n",
       "    .dataframe thead th {\n",
       "        text-align: right;\n",
       "    }\n",
       "</style>\n",
       "<table border=\"1\" class=\"dataframe\">\n",
       "  <thead>\n",
       "    <tr style=\"text-align: right;\">\n",
       "      <th></th>\n",
       "      <th>cleaned_text</th>\n",
       "      <th>fraudulent</th>\n",
       "    </tr>\n",
       "  </thead>\n",
       "  <tbody>\n",
       "    <tr>\n",
       "      <th>0</th>\n",
       "      <td>marketing intern new york marketing food and c...</td>\n",
       "      <td>0</td>\n",
       "    </tr>\n",
       "    <tr>\n",
       "      <th>1</th>\n",
       "      <td>customer service cloud video production auckla...</td>\n",
       "      <td>0</td>\n",
       "    </tr>\n",
       "    <tr>\n",
       "      <th>2</th>\n",
       "      <td>commissioning machinery assistant cma wever va...</td>\n",
       "      <td>0</td>\n",
       "    </tr>\n",
       "    <tr>\n",
       "      <th>3</th>\n",
       "      <td>account executive washington washington sales ...</td>\n",
       "      <td>0</td>\n",
       "    </tr>\n",
       "    <tr>\n",
       "      <th>4</th>\n",
       "      <td>bill review manager fort worth spot source sol...</td>\n",
       "      <td>0</td>\n",
       "    </tr>\n",
       "  </tbody>\n",
       "</table>\n",
       "</div>"
      ],
      "text/plain": [
       "                                        cleaned_text  fraudulent\n",
       "0  marketing intern new york marketing food and c...           0\n",
       "1  customer service cloud video production auckla...           0\n",
       "2  commissioning machinery assistant cma wever va...           0\n",
       "3  account executive washington washington sales ...           0\n",
       "4  bill review manager fort worth spot source sol...           0"
      ]
     },
     "execution_count": 230,
     "metadata": {},
     "output_type": "execute_result"
    }
   ],
   "source": [
    "text_data = pd.read_csv('cleaned_text.csv')\n",
    "print(text_data.shape)\n",
    "text_data.head()"
   ]
  },
  {
   "cell_type": "code",
   "execution_count": 218,
   "id": "d741c35b",
   "metadata": {},
   "outputs": [],
   "source": [
    "from sklearn.model_selection import train_test_split\n",
    "from sklearn.utils import resample"
   ]
  },
  {
   "cell_type": "code",
   "execution_count": 231,
   "id": "7e48ecf7",
   "metadata": {},
   "outputs": [
    {
     "name": "stdout",
     "output_type": "stream",
     "text": [
      "Train X shape: (12516,)\n",
      "0    11915\n",
      "1      601\n",
      "Name: fraudulent, dtype: int64\n",
      "positive rate: 0.0480\n",
      "\n",
      "Test X shape: (5364,)\n",
      "0    5099\n",
      "1     265\n",
      "Name: fraudulent, dtype: int64\n",
      "positive rate: 0.0494\n",
      "\n"
     ]
    }
   ],
   "source": [
    "X_train, X_test, y_train, y_test = train_test_split(text_data['cleaned_text'], \n",
    "                                                    text_data['fraudulent'], \n",
    "                                                    test_size=0.3, \n",
    "                                                    random_state=666)\n",
    "\n",
    "print(f\"Train X shape: {X_train.shape}\")\n",
    "print(f\"{y_train.value_counts()}\")\n",
    "print(f\"positive rate: {y_train.value_counts()[1] / y_train.shape[0]:.4f}\\n\")\n",
    "print(f\"Test X shape: {X_test.shape}\")\n",
    "print(f\"{y_test.value_counts()}\")\n",
    "print(f\"positive rate: {y_test.value_counts()[1] / y_test.shape[0]:.4f}\\n\")"
   ]
  },
  {
   "cell_type": "code",
   "execution_count": 234,
   "id": "5a4d992a",
   "metadata": {
    "scrolled": true
   },
   "outputs": [
    {
     "name": "stdout",
     "output_type": "stream",
     "text": [
      "Before resampling, the train X shape is (12516, 2), class distribution is 0    11915\n",
      "1      601\n",
      "Name: fraudulent, dtype: int64\n",
      "(23830, 2)\n",
      "0    11915\n",
      "1    11915\n",
      "Name: fraudulent, dtype: int64\n"
     ]
    }
   ],
   "source": [
    "train_data = pd.concat([X_train, y_train], axis=1)\n",
    "print(f\"Before resampling, the train X shape is {train_data.shape}, \"\n",
    "      f\"class distribution is {train_data['fraudulent'].value_counts()}\")\n",
    "\n",
    "train_resampled_positive = resample(\n",
    "    train_data[train_data['fraudulent']==1],         \n",
    "    n_samples=train_data[train_data['fraudulent']==0].shape[0],\n",
    "    replace=True\n",
    ")\n",
    "\n",
    "\n",
    "train_data = pd.concat([train_data[train_data['fraudulent']==0], train_resampled_positive])\n",
    "print(train_data.shape)\n",
    "print(train_data['fraudulent'].value_counts())"
   ]
  },
  {
   "cell_type": "code",
   "execution_count": 267,
   "id": "a7b99739",
   "metadata": {},
   "outputs": [],
   "source": [
    "X_train, y_train = train_data['cleaned_text'], train_data['fraudulent']\n",
    "test_data = pd.concat([X_test, y_test], axis=1)"
   ]
  },
  {
   "cell_type": "code",
   "execution_count": 289,
   "id": "3ed8225b",
   "metadata": {},
   "outputs": [],
   "source": [
    "train_data.reset_index(inplace=True, drop=True)\n",
    "test_data.reset_index(inplace=True, drop=True)"
   ]
  },
  {
   "cell_type": "code",
   "execution_count": 314,
   "id": "71badc1f",
   "metadata": {},
   "outputs": [
    {
     "data": {
      "text/html": [
       "<div>\n",
       "<style scoped>\n",
       "    .dataframe tbody tr th:only-of-type {\n",
       "        vertical-align: middle;\n",
       "    }\n",
       "\n",
       "    .dataframe tbody tr th {\n",
       "        vertical-align: top;\n",
       "    }\n",
       "\n",
       "    .dataframe thead th {\n",
       "        text-align: right;\n",
       "    }\n",
       "</style>\n",
       "<table border=\"1\" class=\"dataframe\">\n",
       "  <thead>\n",
       "    <tr style=\"text-align: right;\">\n",
       "      <th></th>\n",
       "      <th>index</th>\n",
       "      <th>cleaned_text</th>\n",
       "      <th>fraudulent</th>\n",
       "    </tr>\n",
       "  </thead>\n",
       "  <tbody>\n",
       "    <tr>\n",
       "      <th>0</th>\n",
       "      <td>13777</td>\n",
       "      <td>software engineer visakhapatnam product develo...</td>\n",
       "      <td>0</td>\n",
       "    </tr>\n",
       "    <tr>\n",
       "      <th>1</th>\n",
       "      <td>13321</td>\n",
       "      <td>head online marketing munich non tech hello wo...</td>\n",
       "      <td>0</td>\n",
       "    </tr>\n",
       "    <tr>\n",
       "      <th>2</th>\n",
       "      <td>2391</td>\n",
       "      <td>graduates english teacher abroad conversationa...</td>\n",
       "      <td>0</td>\n",
       "    </tr>\n",
       "    <tr>\n",
       "      <th>3</th>\n",
       "      <td>6857</td>\n",
       "      <td>business development manager banking investmen...</td>\n",
       "      <td>0</td>\n",
       "    </tr>\n",
       "    <tr>\n",
       "      <th>4</th>\n",
       "      <td>3520</td>\n",
       "      <td>business development manager eng london studen...</td>\n",
       "      <td>0</td>\n",
       "    </tr>\n",
       "    <tr>\n",
       "      <th>...</th>\n",
       "      <td>...</td>\n",
       "      <td>...</td>\n",
       "      <td>...</td>\n",
       "    </tr>\n",
       "    <tr>\n",
       "      <th>5359</th>\n",
       "      <td>4295</td>\n",
       "      <td>english teacher abroad charles help teachers g...</td>\n",
       "      <td>0</td>\n",
       "    </tr>\n",
       "    <tr>\n",
       "      <th>5360</th>\n",
       "      <td>5401</td>\n",
       "      <td>sales associate new york proenza schouler look...</td>\n",
       "      <td>0</td>\n",
       "    </tr>\n",
       "    <tr>\n",
       "      <th>5361</th>\n",
       "      <td>15432</td>\n",
       "      <td>web designer wellington permanent silver strip...</td>\n",
       "      <td>0</td>\n",
       "    </tr>\n",
       "    <tr>\n",
       "      <th>5362</th>\n",
       "      <td>3148</td>\n",
       "      <td>executive assistant crystal city for more than...</td>\n",
       "      <td>0</td>\n",
       "    </tr>\n",
       "    <tr>\n",
       "      <th>5363</th>\n",
       "      <td>2914</td>\n",
       "      <td>field engineer graphs are everywhere from webs...</td>\n",
       "      <td>0</td>\n",
       "    </tr>\n",
       "  </tbody>\n",
       "</table>\n",
       "<p>5364 rows × 3 columns</p>\n",
       "</div>"
      ],
      "text/plain": [
       "      index                                       cleaned_text  fraudulent\n",
       "0     13777  software engineer visakhapatnam product develo...           0\n",
       "1     13321  head online marketing munich non tech hello wo...           0\n",
       "2      2391  graduates english teacher abroad conversationa...           0\n",
       "3      6857  business development manager banking investmen...           0\n",
       "4      3520  business development manager eng london studen...           0\n",
       "...     ...                                                ...         ...\n",
       "5359   4295  english teacher abroad charles help teachers g...           0\n",
       "5360   5401  sales associate new york proenza schouler look...           0\n",
       "5361  15432  web designer wellington permanent silver strip...           0\n",
       "5362   3148  executive assistant crystal city for more than...           0\n",
       "5363   2914  field engineer graphs are everywhere from webs...           0\n",
       "\n",
       "[5364 rows x 3 columns]"
      ]
     },
     "execution_count": 314,
     "metadata": {},
     "output_type": "execute_result"
    }
   ],
   "source": [
    "test_data"
   ]
  },
  {
   "cell_type": "code",
   "execution_count": 296,
   "id": "fe156011",
   "metadata": {},
   "outputs": [
    {
     "data": {
      "text/html": [
       "<div>\n",
       "<style scoped>\n",
       "    .dataframe tbody tr th:only-of-type {\n",
       "        vertical-align: middle;\n",
       "    }\n",
       "\n",
       "    .dataframe tbody tr th {\n",
       "        vertical-align: top;\n",
       "    }\n",
       "\n",
       "    .dataframe thead th {\n",
       "        text-align: right;\n",
       "    }\n",
       "</style>\n",
       "<table border=\"1\" class=\"dataframe\">\n",
       "  <thead>\n",
       "    <tr style=\"text-align: right;\">\n",
       "      <th></th>\n",
       "      <th>level_0</th>\n",
       "      <th>index</th>\n",
       "      <th>cleaned_text</th>\n",
       "      <th>fraudulent</th>\n",
       "    </tr>\n",
       "  </thead>\n",
       "  <tbody>\n",
       "    <tr>\n",
       "      <th>23830</th>\n",
       "      <td>NaN</td>\n",
       "      <td>13777</td>\n",
       "      <td>software engineer visakhapatnam product develo...</td>\n",
       "      <td>0</td>\n",
       "    </tr>\n",
       "    <tr>\n",
       "      <th>23831</th>\n",
       "      <td>NaN</td>\n",
       "      <td>13321</td>\n",
       "      <td>head online marketing munich non tech hello wo...</td>\n",
       "      <td>0</td>\n",
       "    </tr>\n",
       "    <tr>\n",
       "      <th>23832</th>\n",
       "      <td>NaN</td>\n",
       "      <td>2391</td>\n",
       "      <td>graduates english teacher abroad conversationa...</td>\n",
       "      <td>0</td>\n",
       "    </tr>\n",
       "    <tr>\n",
       "      <th>23833</th>\n",
       "      <td>NaN</td>\n",
       "      <td>6857</td>\n",
       "      <td>business development manager banking investmen...</td>\n",
       "      <td>0</td>\n",
       "    </tr>\n",
       "    <tr>\n",
       "      <th>23834</th>\n",
       "      <td>NaN</td>\n",
       "      <td>3520</td>\n",
       "      <td>business development manager eng london studen...</td>\n",
       "      <td>0</td>\n",
       "    </tr>\n",
       "    <tr>\n",
       "      <th>...</th>\n",
       "      <td>...</td>\n",
       "      <td>...</td>\n",
       "      <td>...</td>\n",
       "      <td>...</td>\n",
       "    </tr>\n",
       "    <tr>\n",
       "      <th>29189</th>\n",
       "      <td>NaN</td>\n",
       "      <td>4295</td>\n",
       "      <td>english teacher abroad charles help teachers g...</td>\n",
       "      <td>0</td>\n",
       "    </tr>\n",
       "    <tr>\n",
       "      <th>29190</th>\n",
       "      <td>NaN</td>\n",
       "      <td>5401</td>\n",
       "      <td>sales associate new york proenza schouler look...</td>\n",
       "      <td>0</td>\n",
       "    </tr>\n",
       "    <tr>\n",
       "      <th>29191</th>\n",
       "      <td>NaN</td>\n",
       "      <td>15432</td>\n",
       "      <td>web designer wellington permanent silver strip...</td>\n",
       "      <td>0</td>\n",
       "    </tr>\n",
       "    <tr>\n",
       "      <th>29192</th>\n",
       "      <td>NaN</td>\n",
       "      <td>3148</td>\n",
       "      <td>executive assistant crystal city for more than...</td>\n",
       "      <td>0</td>\n",
       "    </tr>\n",
       "    <tr>\n",
       "      <th>29193</th>\n",
       "      <td>NaN</td>\n",
       "      <td>2914</td>\n",
       "      <td>field engineer graphs are everywhere from webs...</td>\n",
       "      <td>0</td>\n",
       "    </tr>\n",
       "  </tbody>\n",
       "</table>\n",
       "<p>5364 rows × 4 columns</p>\n",
       "</div>"
      ],
      "text/plain": [
       "       level_0  index                                       cleaned_text  \\\n",
       "23830      NaN  13777  software engineer visakhapatnam product develo...   \n",
       "23831      NaN  13321  head online marketing munich non tech hello wo...   \n",
       "23832      NaN   2391  graduates english teacher abroad conversationa...   \n",
       "23833      NaN   6857  business development manager banking investmen...   \n",
       "23834      NaN   3520  business development manager eng london studen...   \n",
       "...        ...    ...                                                ...   \n",
       "29189      NaN   4295  english teacher abroad charles help teachers g...   \n",
       "29190      NaN   5401  sales associate new york proenza schouler look...   \n",
       "29191      NaN  15432  web designer wellington permanent silver strip...   \n",
       "29192      NaN   3148  executive assistant crystal city for more than...   \n",
       "29193      NaN   2914  field engineer graphs are everywhere from webs...   \n",
       "\n",
       "       fraudulent  \n",
       "23830           0  \n",
       "23831           0  \n",
       "23832           0  \n",
       "23833           0  \n",
       "23834           0  \n",
       "...           ...  \n",
       "29189           0  \n",
       "29190           0  \n",
       "29191           0  \n",
       "29192           0  \n",
       "29193           0  \n",
       "\n",
       "[5364 rows x 4 columns]"
      ]
     },
     "execution_count": 296,
     "metadata": {},
     "output_type": "execute_result"
    }
   ],
   "source": [
    "merge_data = pd.concat([train_data, test_data])\n",
    "merge_data.reset_index(inplace=True, drop=True)\n",
    "merge_data.loc[train_data.shape[0]:]"
   ]
  },
  {
   "cell_type": "code",
   "execution_count": 311,
   "id": "ac003bce",
   "metadata": {},
   "outputs": [
    {
     "data": {
      "text/plain": [
       "23830"
      ]
     },
     "execution_count": 311,
     "metadata": {},
     "output_type": "execute_result"
    }
   ],
   "source": [
    "split_index = train_data.shape[0]\n",
    "split_index"
   ]
  },
  {
   "cell_type": "code",
   "execution_count": 315,
   "id": "54bbf7c7",
   "metadata": {},
   "outputs": [
    {
     "data": {
      "text/plain": [
       "0    11915\n",
       "1    11915\n",
       "Name: fraudulent, dtype: int64"
      ]
     },
     "execution_count": 315,
     "metadata": {},
     "output_type": "execute_result"
    }
   ],
   "source": [
    "# train data\n",
    "merge_data.loc[:split_index-1]['fraudulent'].value_counts()"
   ]
  },
  {
   "cell_type": "code",
   "execution_count": 316,
   "id": "77f1833b",
   "metadata": {},
   "outputs": [
    {
     "data": {
      "text/plain": [
       "0    5099\n",
       "1     265\n",
       "Name: fraudulent, dtype: int64"
      ]
     },
     "execution_count": 316,
     "metadata": {},
     "output_type": "execute_result"
    }
   ],
   "source": [
    "# test data\n",
    "merge_data.loc[split_index:]['fraudulent'].value_counts()"
   ]
  },
  {
   "cell_type": "markdown",
   "id": "837aa1d0",
   "metadata": {},
   "source": [
    "# 2.Data Preparation"
   ]
  },
  {
   "cell_type": "code",
   "execution_count": 29,
   "id": "db86f676",
   "metadata": {},
   "outputs": [],
   "source": [
    "import os\n",
    "import tqdm\n",
    "\n",
    "from nltk.tokenize import word_tokenize\n",
    "from collections import defaultdict\n",
    "from gensim.models import Word2Vec, KeyedVectors \n",
    "from gensim.test.utils import datapath"
   ]
  },
  {
   "cell_type": "markdown",
   "id": "eec4c23a",
   "metadata": {},
   "source": [
    "## 2.1 Word Embedding"
   ]
  },
  {
   "cell_type": "code",
   "execution_count": 299,
   "id": "324f3896",
   "metadata": {},
   "outputs": [],
   "source": [
    "def tokenize(text):\n",
    "    word2idx = {}\n",
    "    idx = 2\n",
    "    word2idx['<pad>'] = 0\n",
    "    word2idx['<unk>'] = 1\n",
    "    \n",
    "    tokenized_text = []\n",
    "    max_len = 0\n",
    "    \n",
    "    for row in text:\n",
    "        tokenized_row = word_tokenize(row)\n",
    "        tokenized_text.append(tokenized_row)\n",
    "        max_len = max(max_len, len(tokenized_row))\n",
    "        \n",
    "        for word in tokenized_row:\n",
    "            if word not in word2idx:\n",
    "                word2idx[word] = idx\n",
    "                idx += 1\n",
    "    \n",
    "    return tokenized_text, word2idx, max_len"
   ]
  },
  {
   "cell_type": "code",
   "execution_count": 300,
   "id": "de3abace",
   "metadata": {
    "scrolled": true
   },
   "outputs": [
    {
     "name": "stdout",
     "output_type": "stream",
     "text": [
      "max_len: 1795\n",
      "First five texts: [['entry', 'level', 'sales', 'jacksonville', 'general', 'summary', 'achieves', 'maximum', 'sales', 'profitability', 'growth', 'and', 'account', 'penetration', 'within', 'assigned', 'territory', 'and', 'market', 'segment', 'effectively', 'selling', 'the', 'company', 'products', 'and', 'related', 'services', 'personally', 'contacts', 'and', 'secures', 'new', 'business', 'accounts', 'customers', 'core', 'functions', 'promotes', 'sells', 'secures', 'orders', 'from', 'existing', 'and', 'prospective', 'customers', 'through', 'relationship', 'based', 'approach', 'demonstrates', 'products', 'and', 'services', 'existing', 'potential', 'customers', 'and', 'assists', 'themin', 'selecting', 'those', 'best', 'suited', 'their', 'needs', 'details', 'function', 'establishes', 'develops', 'and', 'maintains', 'business', 'relationships', 'withcurrent', 'customers', 'and', 'prospective', 'customers', 'the', 'assigned', 'territory', 'market', 'segment', 'generate', 'new', 'business', 'for', 'the', 'organization', 'products', 'services', 'makes', 'telephone', 'calls', 'and', 'person', 'visits', 'and', 'presentations', 'existing', 'and', 'prospective', 'customers', 'researches', 'sources', 'for', 'developing', 'prospective', 'customers', 'and', 'for', 'information', 'determine', 'their', 'potential', 'develops', 'clear', 'and', 'effective', 'written', 'proposals', 'quotations', 'for', 'current', 'and', 'prospective', 'customers', 'expedites', 'the', 'resolution', 'customer', 'problems', 'and', 'complaints', 'coordinates', 'sales', 'effort', 'with', 'marketing', 'sales', 'management', 'accounting', 'logistics', 'and', 'technical', 'servicegroups', 'analyzes', 'the', 'territory', 'market', 'potential', 'and', 'determines', 'the', 'value', 'existing', 'and', 'prospective', 'customers', 'value', 'the', 'organization', 'creates', 'and', 'manages', 'customer', 'value', 'plan', 'for', 'existing', 'customers', 'highlighting', 'profile', 'share', 'and', 'value', 'opportunities', 'identifies', 'advantages', 'and', 'compares', 'organization', 'products', 'services', 'plans', 'and', 'organizes', 'personal', 'sales', 'strategy', 'maximizing', 'the', 'return', 'time', 'investment', 'for', 'the', 'territory', 'segment', 'supplies', 'management', 'with', 'oral', 'and', 'written', 'reports', 'customer', 'needs', 'problems', 'interests', 'competitive', 'activities', 'and', 'potential', 'for', 'new', 'products', 'and', 'services', 'keeps', 'abreast', 'product', 'applications', 'technical', 'services', 'market', 'conditions', 'competitive', 'activities', 'advertising', 'and', 'promotional', 'trends', 'through', 'the', 'reading', 'pertinent', 'literature', 'and', 'consulting', 'with', 'marketing', 'and', 'technical', 'service', 'areas', 'qualifications', 'demonstrated', 'aptitude', 'for', 'problem', 'solving', 'ability', 'determine', 'solutions', 'for', 'customers', 'consultative', 'sales', 'approach', 'must', 'results', 'orientated', 'and', 'able', 'work', 'both', 'independently', 'and', 'within', 'team', 'environment', 'must', 'possess', 'excellent', 'verbal', 'and', 'written', 'communication', 'skills', 'proficiency', 'using', 'microsoft', 'office', 'suite', 'applications', 'and', 'contact', 'management', 'software', 'valid', 'driver', 'license'], ['underground', 'plumbing', 'service', 'technicians', 'bonus', 'available', 'greenville', 'hawkeye', 'recruitment', 'provides', 'cost', 'effective', 'recruitment', 'advertising', 'solutions', 'help', 'you', 'cast', 'the', 'widest', 'net', 'find', 'the', 'perfect', 'candidate', 'for', 'your', 'job', 'can', 'help', 'improve', 'your', 'recruitment', 'efforts', 'and', 'streamline', 'your', 'hiring', 'process', 'now', 'hiring', 'sign', 'bonus', 'must', 'work', 'for', 'months', 'dipple', 'seeking', 'experienced', 'underground', 'plumbing', 'service', 'technicians', 'join', 'our', 'team', 'are', 'you', 'interested', 'working', 'for', 'established', 'growth', 'oriented', 'local', 'company', 'that', 'provides', 'great', 'career', 'opportunities', 'great', 'pay', 'plus', 'commissions', 'and', 'super', 'excellent', 'benefits', 'and', 'apply', 'today', 'you', 'glad', 'you', 'did', 'applicants', 'must', 'have', 'valid', 'driver', 'license', 'with', 'clean', 'driving', 'record', 'drug', 'free', 'workplace', 'you', 'must', 'able', 'pass', 'drug', 'test', 'commissions', 'benefits'], ['business', 'lead', 'lnd', 'shoreditch', 'business', 'ustwo', 'offers', 'you', 'the', 'opportunity', 'yourself', 'whilst', 'delivering', 'the', 'best', 'work', 'the', 'planet', 'for', 'some', 'the', 'biggest', 'and', 'most', 'innovative', 'brands', 'culture', 'thriving', 'collaboration', 'underpins', 'what', 'amazing', 'work', 'smart', 'live', 'well', 'environment', 'genuinely', 'care', 'about', 'the', 'work', 'that', 'deliver', 'and', 'the', 'people', 'who', 'help', 'make', 'all', 'possible', 'only', 'invest', 'projects', 'people', 'and', 'practices', 'that', 'believe', 'ensure', 'remain', 'excited', 'about', 'every', 'opportunity', 'ustwo', 'industry', 'leading', 'digital', 'product', 'studio', 'with', 'expansive', 'portfolio', 'spread', 'across', 'client', 'projects', 'own', 'and', 'most', 'recently', 'ventures', 'all', 'our', 'work', 'focuses', 'around', 'the', 'main', 'purpose', 'making', 'difference', 'and', 'also', 'being', 'able', 'capture', 'the', 'imagination', 'and', 'interest', 'our', 'teams', 'designers', 'and', 'developers', 'particularly', 'passionate', 'around', 'delivering', 'innovative', 'solutions', 'within', 'retail', 'automotive', 'energy', 'health', 'loyalty', 'and', 'financial', 'services', 'from', 'business', 'perspective', 'our', 'offering', 'both', 'exciting', 'and', 'challenging', 'particularly', 'open', 'new', 'business', 'models', 'conversations', 'part', 'our', 'business', 'team', 'this', 'business', 'lead', 'opportunity', 'will', 'exclusively', 'focus', 'increasing', 'the', 'flow', 'new', 'client', 'opportunities', 'into', 'the', 'business', 'that', 'complements', 'our', 'company', 'vision', 'come', 'with', 'your', 'bursting', 'black', 'book', 'help', 'open', 'new', 'doors', 'and', 'ignite', 'few', 'fires', 'across', 'your', 'networks', 'networker', 'extraordinaire', 'you', 'well', 'connected', 'across', 'the', 'industry', 'and', 'have', 'waiting', 'list', 'appointments', 'you', 'enjoy', 'leading', 'complex', 'commercial', 'negotiations', 'you', 'known', 'for', 'your', 'reputation', 'management', 'skills', 'have', 'well', 'regarded', 'background', 'building', 'and', 'fostering', 'long', 'term', 'client', 'relationships', 'all', 'levels', 'have', 'depth', 'and', 'date', 'understanding', 'the', 'marketplace', 'specifically', 'around', 'full', 'product', 'delivery', 'cycle', 'and', 'lean', 'agile', 'methodology', 'ability', 'define', 'new', 'business', 'strategy', 'and', 'planning', 'you', 'thrive', 'dynamic', 'highly', 'collaborative', 'and', 'innovative', 'workplace', 'possess', 'naturally', 'curious', 'mindset', 'relish', 'creating', 'detail', 'and', 'method', 'abstract', 'ideas', 'and', 'concepts', 'nice', 'have', 'proven', 'ability', 'develop', 'innovative', 'new', 'business', 'models', 'for', 'client', 'partnerships', 'people', 'centred', 'company', 'that', 'strives', 'create', 'the', 'best', 'opportunities', 'for', 'the', 'best', 'people', 'the', 'industry', 'just', 'happen', 'have', 'amazing', 'studio', 'space', 'and', 'great', 'tools', 'for', 'learning', 'and', 'sharing', 'offer', 'competitive', 'package', 'including', 'but', 'not', 'limited', 'company', 'wide', 'profit', 'sharing', 'platform', 'company', 'pension', 'life', 'assurance', 'private', 'medical', 'training', 'budget', 'and', 'amazing', 'family', 'policies', 'days', 'holiday', 'are', 'offered', 'standard', 'inclusive', 'studio', 'closure', 'days', 'over', 'xmas', 'also', 'promote', 'flexible', 'working', 'days'], ['graduates', 'english', 'teacher', 'abroad', 'tuscaloosa', 'help', 'teachers', 'get', 'safe', 'amp', 'secure', 'jobs', 'abroad', 'play', 'with', 'kids', 'get', 'paid', 'for', 'love', 'travel', 'jobs', 'asia', 'usd', 'monthly', 'cost', 'living', 'housing', 'provided', 'airfare', 'reimbursed', 'excellent', 'for', 'student', 'loans', 'credit', 'cards', 'gabriel', 'adkins', 'university', 'degree', 'required', 'tefl', 'tesol', 'celta', 'teaching', 'experience', 'preferred', 'but', 'not', 'necessary', 'positive', 'attitude', 'required', 'canada', 'passport', 'only', 'see', 'job', 'description'], ['community', 'manager', 'hck', 'london', 'music', 'dice', 'gets', 'fans', 'the', 'best', 'tickets', 'face', 'value', 'with', 'booking', 'fees', 'based', 'shoreditch', 'london', 'and', 'mobile', 'driven', 'transform', 'ticketing', 'globally', 'fully', 'funded', 'successful', 'entrepreneurs', 'from', 'music', 'consumer', 'and', 'technology', 'all', 'very', 'well', 'known', 'dice', 'currently', 'only', 'for', 'londoners', 'but', 'expanding', 'other', 'cities', 'soon', 'exciting', 'time', 'join', 'and', 'can', 'see', 'role', 'here', 'right', 'now', 'for', 'you', 'email', 'email', 'you', 'can', 'download', 'dice', 'dice', 'the', 'smartest', 'ticketing', 'app', 'earth', 'and', 'currently', 'looking', 'for', 'community', 'and', 'social', 'manager', 'you', 'are', 'incredibly', 'ambitious', 'and', 'looking', 'for', 'fresh', 'challenge', 'building', 'something', 'from', 'the', 'ground', 'and', 'that', 'inspires', 'you', 'you', 'are', 'bursting', 'with', 'your', 'own', 'ideas', 'and', 'want', 'chance', 'bring', 'them', 'the', 'table', 'you', 'will', 'integral', 'part', 'the', 'music', 'team', 'helping', 'promoters', 'and', 'artists', 'ensure', 'their', 'events', 'are', 'presented', 'the', 'highest', 'standard', 'and', 'providing', 'them', 'with', 'support', 'you', 'proactive', 'with', 'our', 'social', 'media', 'channels', 'and', 'proud', 'member', 'dice', 'this', 'role', 'will', 'also', 'involve', 'the', 'ordination', 'and', 'management', 'community', 'reps', 'who', 'are', 'our', 'brand', 'ambassadors', 'out', 'the', 'streets', 'london', 'providing', 'the', 'night', 'customer', 'support', 'this', 'full', 'time', 'role', 'which', 'will', 'also', 'include', 'some', 'evenings', 'and', 'weekends', 'our', 'office', 'shoreditch', 'london', 'you', 'live', 'london', 'you', 'have', 'previous', 'experience', 'community', 'manager', 'tell', 'below', 'why', 'you', 'should', 'skip', 'this', 'requirement', 'you', 'have', 'experience', 'creating', 'viral', 'campaigns', 'brilliant', 'communication', 'skills', 'both', 'written', 'and', 'verbal', 'experience', 'ordinating', 'managing', 'team', 'you', 'love', 'meeting', 'and', 'learning', 'from', 'people', 'and', 'take', 'pride', 'solving', 'problems', 'you', 'love', 'live', 'music', 'and', 'gigs', 'ability', 'work', 'both', 'the', 'dice', 'office', 'and', 'outside', 'you', 'must', 'able', 'work', 'during', 'the', 'evening', 'and', 'weekends', 'excellent', 'decision', 'making', 'skills', 'whilst', 'working', 'under', 'tight', 'deadlines', 'you', 'working', 'with', 'smart', 'people', 'who', 'have', 'amazing', 'ideas', 'that', 'often', 'become', 'reality', 'have', 'access', 'some', 'the', 'biggest', 'people', 'entertainment', 'and', 'chance', 'shine', 'our', 'work', 'environment', 'fantastic', 'with', 'access', 'free', 'food', 'drinks', 'sports', 'and', 'masssages', 'also', 'invite', 'well', 'known', 'inspriing', 'folk', 'drop', 'talk']]\n"
     ]
    }
   ],
   "source": [
    "tokenized_text, word2idx, max_len = tokenize(merge_data['cleaned_text'])\n",
    "print(f\"max_len: {max_len}\")\n",
    "print(f\"First five texts: {tokenized_text[:5]}\")"
   ]
  },
  {
   "cell_type": "code",
   "execution_count": 353,
   "id": "91f20f1a",
   "metadata": {},
   "outputs": [
    {
     "data": {
      "text/plain": [
       "array([2, 3, 4, ..., 0, 0, 0])"
      ]
     },
     "execution_count": 353,
     "metadata": {},
     "output_type": "execute_result"
    }
   ],
   "source": [
    "def text_adjust_encode(tokenized_text, word2idx, max_len):\n",
    "    res = []\n",
    "    for row in tokenized_text:\n",
    "        row.extend((max_len - len(row)) * ['<pad>'])\n",
    "        res.append([word2idx.get(token, 1) for token in row])\n",
    "    \n",
    "    return np.array(res)\n",
    "\n",
    "input_index = text_adjust_encode(tokenized_text, word2idx, max_len)\n",
    "input_index[0]"
   ]
  },
  {
   "cell_type": "code",
   "execution_count": 306,
   "id": "1d4d2354",
   "metadata": {},
   "outputs": [
    {
     "name": "stdout",
     "output_type": "stream",
     "text": [
      "(29194, 1795)\n",
      "(29194, 4)\n"
     ]
    }
   ],
   "source": [
    "# print(input_index.shape)\n",
    "# print(merge_data.shape)"
   ]
  },
  {
   "cell_type": "code",
   "execution_count": 15,
   "id": "dcb3e97b",
   "metadata": {},
   "outputs": [
    {
     "name": "stdout",
     "output_type": "stream",
     "text": [
      "[==================================================] 100.0% 1662.8/1662.8MB downloaded\n"
     ]
    }
   ],
   "source": [
    "# load pre-trained word embeddings, word2vec\n",
    "import gensim.downloader as api\n",
    "word2vec = api.load('word2vec-google-news-300')"
   ]
  },
  {
   "cell_type": "code",
   "execution_count": 302,
   "id": "e7df9ac7",
   "metadata": {
    "scrolled": true
   },
   "outputs": [
    {
     "name": "stdout",
     "output_type": "stream",
     "text": [
      "26161 out of 47347 tokens have been found in word2vec pretrained embeddings\n"
     ]
    },
    {
     "data": {
      "text/plain": [
       "tensor([-0.1279, -0.0771, -0.2637, -0.0894,  0.3340,  0.2285, -0.1504, -0.1523,\n",
       "         0.0193, -0.1152,  0.0031, -0.1855,  0.0664, -0.4297, -0.1582, -0.1865,\n",
       "         0.0962,  0.0091,  0.0684, -0.1680,  0.2197, -0.0084, -0.2373, -0.2236,\n",
       "        -0.1582, -0.1602, -0.0077,  0.0014,  0.0908, -0.0540,  0.0413, -0.3535,\n",
       "         0.1074, -0.1641,  0.2354, -0.2314, -0.0347, -0.0566, -0.0742, -0.1738,\n",
       "        -0.0640,  0.0154,  0.3965,  0.2383,  0.1660, -0.1416, -0.2598,  0.4004,\n",
       "        -0.2324,  0.0947, -0.0962, -0.0574, -0.1494, -0.0603,  0.1318, -0.0654,\n",
       "         0.0298,  0.0063, -0.0219,  0.0771,  0.0175, -0.1011, -0.1064, -0.1895,\n",
       "        -0.2012,  0.0233,  0.0593,  0.3203, -0.0226,  0.1133,  0.1777, -0.0151,\n",
       "         0.4395, -0.2256, -0.0063, -0.2539,  0.0347, -0.0732, -0.0039,  0.0408,\n",
       "         0.1846, -0.0835,  0.1123,  0.2158,  0.1748, -0.0491, -0.0280,  0.1943,\n",
       "         0.0034, -0.0439,  0.0947, -0.0427, -0.0898, -0.0854,  0.2598,  0.0469,\n",
       "         0.0223,  0.0347,  0.1108,  0.1875, -0.0574,  0.2246,  0.0884, -0.1504,\n",
       "        -0.0811, -0.2207, -0.0515, -0.0245, -0.0571,  0.1475, -0.0035, -0.1016,\n",
       "        -0.3066, -0.0845, -0.0693, -0.1396,  0.1235, -0.1250,  0.2539,  0.0723,\n",
       "        -0.1484, -0.0869, -0.2656,  0.0077,  0.1768,  0.0669,  0.1777, -0.0540,\n",
       "         0.2275,  0.2598, -0.0713, -0.0698,  0.1367, -0.0219, -0.0198, -0.1660,\n",
       "        -0.1030, -0.2852, -0.1445,  0.1025, -0.0762, -0.0182, -0.2520,  0.0894,\n",
       "        -0.1973,  0.1138,  0.0928,  0.1025, -0.3047, -0.0645, -0.1719,  0.0178,\n",
       "         0.2383, -0.1904, -0.0903, -0.3945, -0.1807, -0.1641, -0.0947,  0.0605,\n",
       "        -0.1250, -0.2676, -0.0366, -0.2305, -0.1025, -0.3320,  0.3047, -0.1924,\n",
       "        -0.2002, -0.1270,  0.0845, -0.1318,  0.1729, -0.2734, -0.2207, -0.1226,\n",
       "        -0.1377, -0.2363,  0.2773,  0.0732, -0.3516, -0.1299, -0.0806,  0.0747,\n",
       "         0.1279, -0.0845, -0.0217, -0.0610,  0.0874, -0.0830, -0.0330, -0.0889,\n",
       "        -0.0537, -0.0466, -0.0645,  0.0201, -0.2314,  0.1543, -0.0625, -0.2871,\n",
       "         0.3477, -0.1118, -0.1250,  0.0293, -0.0718, -0.0400,  0.0195, -0.0334,\n",
       "        -0.0237,  0.2344,  0.2148,  0.2500,  0.0762,  0.0713, -0.2373,  0.3340,\n",
       "         0.3418, -0.0527,  0.1875, -0.3066, -0.1338,  0.1514,  0.0121, -0.0425,\n",
       "         0.0054, -0.2305,  0.3008,  0.1738,  0.0214, -0.1777,  0.0791,  0.0630,\n",
       "        -0.1797,  0.1621, -0.0018, -0.0439,  0.1216, -0.1221, -0.0051, -0.0530,\n",
       "         0.0459, -0.0058, -0.1846, -0.1099,  0.0066, -0.0530,  0.0237,  0.0825,\n",
       "        -0.1367,  0.0669,  0.2852, -0.0591, -0.0635,  0.3438, -0.1992,  0.3477,\n",
       "         0.3086,  0.0087, -0.0579, -0.0177,  0.1797, -0.0101,  0.0459,  0.2578,\n",
       "         0.0894, -0.3887,  0.1079, -0.0493, -0.0386, -0.1367, -0.1758,  0.0134,\n",
       "        -0.0009,  0.1963,  0.1836, -0.0325, -0.0542, -0.3066, -0.1680,  0.3730,\n",
       "        -0.0018,  0.0850, -0.4141,  0.1797,  0.1494,  0.1299, -0.1592,  0.1172,\n",
       "        -0.3301,  0.0381, -0.2500,  0.0850,  0.0903,  0.0918, -0.0408,  0.1748,\n",
       "         0.1250, -0.1416, -0.3906, -0.0311])"
      ]
     },
     "execution_count": 302,
     "metadata": {},
     "output_type": "execute_result"
    }
   ],
   "source": [
    "def embedding(word2idx, word2vec):\n",
    "    word_embeddings = np.random.uniform(-0.25, 0.25, (len(word2idx), 300))\n",
    "    word_embeddings[0] = np.zeros(300)\n",
    "    cnt = 2\n",
    "    \n",
    "    for word in word2idx:\n",
    "        if word in word2vec:\n",
    "            word_embeddings[word2idx[word]] = word2vec[word]\n",
    "            cnt += 1\n",
    "            \n",
    "    print(f\"{cnt} out of {len(word2idx)} tokens have been found in word2vec pretrained embeddings\")\n",
    "    return torch.tensor(word_embeddings, requires_grad=False, dtype=torch.float32)\n",
    "\n",
    "embeddings = embedding(word2idx, word2vec)\n",
    "embeddings[2]"
   ]
  },
  {
   "cell_type": "markdown",
   "id": "b1a97934",
   "metadata": {},
   "source": [
    "## 2.2 Data Loader"
   ]
  },
  {
   "cell_type": "code",
   "execution_count": 162,
   "id": "61723af6",
   "metadata": {},
   "outputs": [],
   "source": [
    "from torchvision.transforms import ToTensor, Compose, Normalize\n",
    "from torch.utils.data import DataLoader\n",
    "from torch.utils.data import (TensorDataset, DataLoader, RandomSampler,SequentialSampler)\n",
    "from sklearn.metrics import f1_score"
   ]
  },
  {
   "cell_type": "code",
   "execution_count": 330,
   "id": "e84ae864",
   "metadata": {
    "scrolled": true
   },
   "outputs": [
    {
     "name": "stdout",
     "output_type": "stream",
     "text": [
      "tensor([[1827,  126, 2959,  ...,    0,    0,    0],\n",
      "        [ 584, 1094, 1072,  ...,    0,    0,    0],\n",
      "        [2649,    4,  632,  ...,    0,    0,    0],\n",
      "        ...,\n",
      "        [ 451, 3581,   12,  ...,    0,    0,    0],\n",
      "        [ 315,  116,  150,  ...,    0,    0,    0],\n",
      "        [   2,    3,    4,  ...,    0,    0,    0]]) \n",
      "\n",
      "\n",
      "tensor([[1827,  126, 2959,  ...,    0,    0,    0],\n",
      "        [ 584, 1094, 1072,  ...,    0,    0,    0],\n",
      "        [2649,    4,  632,  ...,    0,    0,    0],\n",
      "        ...,\n",
      "        [ 451, 3581,   12,  ...,    0,    0,    0],\n",
      "        [ 315,  116,  150,  ...,    0,    0,    0],\n",
      "        [   2,    3,    4,  ...,    0,    0,    0]])\n"
     ]
    }
   ],
   "source": [
    "def generate_dataloader(text, label, batch_size=400):\n",
    "    x, y = tuple(torch.tensor(d) for d in [text, label])\n",
    "    \n",
    "    dataloader = DataLoader(dataset=TensorDataset(x, y), shuffle=True, batch_size=batch_size)\n",
    "    return dataloader\n",
    "\n",
    "\n",
    "train_dataloader = generate_dataloader(input_index[:split_index], \n",
    "                                       merge_data['fraudulent'][:split_index].to_list())\n",
    "\n",
    "test_dataloader = generate_dataloader(input_index[split_index:], \n",
    "                                      merge_data['fraudulent'][split_index].to_list())\n",
    "\n",
    "for idx, (x, y) in enumerate(train_dataloader):\n",
    "    print(x,'\\n\\n')\n",
    "    print(x)\n",
    "    break"
   ]
  },
  {
   "cell_type": "markdown",
   "id": "f2375137",
   "metadata": {},
   "source": [
    "## 2.3 CNN Classifier"
   ]
  },
  {
   "cell_type": "code",
   "execution_count": 204,
   "id": "1a6796dd",
   "metadata": {},
   "outputs": [],
   "source": [
    "import torch.nn as nn\n",
    "import torch.nn.functional as F\n",
    "from sklearn.metrics import confusion_matrix, classification_report"
   ]
  },
  {
   "cell_type": "code",
   "execution_count": 333,
   "id": "51127f50",
   "metadata": {},
   "outputs": [],
   "source": [
    "class CNN(nn.Module):\n",
    "    \n",
    "    def __init__(self, dimension=300, num_classes=2, token_num=embeddings.size(0), kernel_sizes=[3,4,5]):\n",
    "        super(CNN, self).__init__()\n",
    "        \n",
    "        # part 1: embedding layer\n",
    "        self.embedding_layer = nn.Embedding(\n",
    "            num_embeddings = token_num,\n",
    "            embedding_dim = dimension,\n",
    "            padding_idx = 0\n",
    "        )\n",
    "        self.embedding_layer.weight = nn.Parameter(embeddings)\n",
    "        self.embedding_layer.weight.requires_grad = False\n",
    "        \n",
    "        # part 2: convolutional layer\n",
    "        self.convs = nn.ModuleList([\n",
    "            nn.Conv1d(dimension, 100, kernel_size=kz) for kz in kernel_sizes\n",
    "        ])\n",
    "        \n",
    "        # part 3: fully connected layer\n",
    "        self.dropout1 = nn.Dropout(0.5)\n",
    "        self.fc1 = nn.Linear(len(kernel_sizes)*100, 100)\n",
    "        self.relu1 = nn.ReLU()\n",
    "        \n",
    "        # self.dropout2 = nn.Dropout(0.5)\n",
    "        self.fc2 = nn.Linear(100, num_classes)\n",
    "        \n",
    "\n",
    "    def forward(self, input):\n",
    "        x = self.embedding_layer(input)\n",
    "        x = x.permute(0, 2, 1)  # batchsize, channel, sequence\n",
    "        \n",
    "        conv_outputs = [F.relu(conv(x)) for conv in self.convs]  # batchsize, 100, sequence'\n",
    "        maxpool_outputs = [\n",
    "            F.max_pool1d(output, output.size(2)).squeeze(2) for output in conv_outputs  # batchsize, 100\n",
    "        ]\n",
    "        \n",
    "        x = torch.concat(maxpool_outputs, dim=1)\n",
    "        \n",
    "        \n",
    "        x = self.dropout1(x)\n",
    "        x = self.fc1(x)\n",
    "        x = self.relu1(x)\n",
    "        # x = self.dropout2(x)\n",
    "        logits = self.fc2(x)\n",
    "        \n",
    "        return logits\n",
    "    "
   ]
  },
  {
   "cell_type": "code",
   "execution_count": 334,
   "id": "f0b472b4",
   "metadata": {},
   "outputs": [],
   "source": [
    "def train(model, optimizer, epoch, criterion):\n",
    "    print(\"Start to train the model ...\")\n",
    "    print(f\" {'Epoch': ^10} | {'Batch Index': ^10} | {'Loss': ^15} | {'train F1-score': ^15} | \")\n",
    "    \n",
    "    loss_list = []\n",
    "    model.train()\n",
    "    for i in range(epoch):\n",
    "        if os.path.exists(\"./model/cnn.pkl\"):\n",
    "            model.load_state_dict(torch.load('./model/cnn.pkl'))\n",
    "            optimizer.load_state_dict(torch.load('./model/cnn_optimizer.pkl'))\n",
    "        \n",
    "        train_dataloader = generate_dataloader(input_index[:split_index], \n",
    "                                       merge_data['fraudulent'][:split_index].to_list())\n",
    "        \n",
    "        for idx, (x, y) in enumerate(train_dataloader):\n",
    "            optimizer.zero_grad()\n",
    "            logits = model(x)\n",
    "            loss = criterion(logits.softmax(dim=1), y)\n",
    "            loss.backward()\n",
    "            optimizer.step()\n",
    "            \n",
    "            # print the training outcome\n",
    "            pred = logits.max(dim=1)[-1].cpu().numpy()\n",
    "            actual = y.cpu().numpy()\n",
    "            f1 = round(f1_score(y_true=actual, y_pred=pred, average='micro'), 4)\n",
    "            loss_list.append(loss.item())\n",
    "            print(f\" {i+1: ^10} | {idx: ^10} | {round(loss.item(), 4): ^15} | {f1: ^15} | \")\n",
    "        \n",
    "        \n",
    "        # save the model\n",
    "        torch.save(model.state_dict(), './model/cnn.pkl')\n",
    "        torch.save(optimizer.state_dict(), './model/cnn_optimizer.pkl')\n",
    "    \n",
    "    print(\"Done finish training.\")\n",
    "    \n",
    "    return loss_list"
   ]
  },
  {
   "cell_type": "code",
   "execution_count": 339,
   "id": "d5393c67",
   "metadata": {},
   "outputs": [],
   "source": [
    "def evaluate(model, criterion):\n",
    "    test_dataloader = generate_dataloader(input_index[split_index:], \n",
    "                                          merge_data['fraudulent'][split_index:].to_list(),\n",
    "                                          batch_size=len(y_test))\n",
    "\n",
    "    model.load_state_dict(torch.load('./model/cnn.pkl'))\n",
    "    model.eval()\n",
    "    \n",
    "    f1 = []\n",
    "    accuracy = []\n",
    "    \n",
    "    with torch.no_grad():\n",
    "        for idx, (x, y) in enumerate(test_dataloader):\n",
    "            logits = model(x)\n",
    "            pred = logits.max(dim=1)[-1].cpu().numpy()\n",
    "            actual = y.cpu().numpy()\n",
    "            acc = (pred == actual).mean()\n",
    "            \n",
    "            accuracy.append(acc)\n",
    "            f1.append(f1_score(y_true=actual, y_pred=pred, average='micro'))\n",
    "            print(classification_report(y_true=actual, y_pred=pred))\n",
    "    \n",
    "    print(f\"The average accuracy in test data is {np.array(accuracy).mean()}\")\n",
    "    print(f\"The average F1-score in test data is {np.array(f1).mean()}\")"
   ]
  },
  {
   "cell_type": "markdown",
   "id": "8fa93e88",
   "metadata": {},
   "source": [
    "# 3. Train the Model"
   ]
  },
  {
   "cell_type": "code",
   "execution_count": 337,
   "id": "a3713af2",
   "metadata": {
    "scrolled": true
   },
   "outputs": [
    {
     "name": "stdout",
     "output_type": "stream",
     "text": [
      "Start to train the model ...\n",
      "   Epoch    | Batch Index |      Loss       | train F1-score  | \n",
      "     1      |     0      |     0.6959      |      0.415      | \n",
      "     1      |     1      |     0.8448      |      0.44       | \n",
      "     1      |     2      |     0.6802      |     0.5625      | \n",
      "     1      |     3      |     0.6531      |      0.65       | \n",
      "     1      |     4      |     0.6019      |     0.8125      | \n",
      "     1      |     5      |     0.5533      |      0.79       | \n",
      "     1      |     6      |     0.5686      |     0.7225      | \n",
      "     1      |     7      |     0.5073      |      0.805      | \n",
      "     1      |     8      |     0.4703      |      0.86       | \n",
      "     1      |     9      |     0.4581      |      0.845      | \n",
      "     1      |     10     |     0.4426      |      0.875      | \n",
      "     1      |     11     |     0.4229      |      0.885      | \n",
      "     1      |     12     |     0.4308      |     0.8775      | \n",
      "     1      |     13     |     0.3962      |      0.915      | \n",
      "     1      |     14     |      0.396      |      0.915      | \n",
      "     1      |     15     |     0.3819      |     0.9375      | \n",
      "     1      |     16     |     0.3902      |     0.9275      | \n",
      "     1      |     17     |      0.402      |      0.905      | \n",
      "     1      |     18     |     0.3901      |     0.9175      | \n",
      "     1      |     19     |     0.3774      |      0.93       | \n",
      "     1      |     20     |     0.3892      |      0.925      | \n",
      "     1      |     21     |     0.3777      |     0.9325      | \n",
      "     1      |     22     |      0.375      |      0.94       | \n",
      "     1      |     23     |     0.3706      |     0.9425      | \n",
      "     1      |     24     |     0.3796      |     0.9275      | \n",
      "     1      |     25     |     0.3616      |     0.9525      | \n",
      "     1      |     26     |     0.3579      |     0.9575      | \n",
      "     1      |     27     |     0.3639      |      0.945      | \n",
      "     1      |     28     |     0.3593      |      0.95       | \n",
      "     1      |     29     |     0.3679      |     0.9525      | \n",
      "     1      |     30     |     0.3493      |     0.9675      | \n",
      "     1      |     31     |      0.357      |     0.9575      | \n",
      "     1      |     32     |     0.3693      |     0.9425      | \n",
      "     1      |     33     |     0.3308      |     0.9825      | \n",
      "     1      |     34     |     0.3368      |     0.9775      | \n",
      "     1      |     35     |     0.3248      |     0.9925      | \n",
      "     1      |     36     |     0.3469      |      0.965      | \n",
      "     1      |     37     |     0.3578      |     0.9525      | \n",
      "     1      |     38     |     0.3478      |      0.965      | \n",
      "     1      |     39     |     0.3634      |      0.95       | \n",
      "     1      |     40     |     0.3526      |      0.96       | \n",
      "     1      |     41     |     0.3473      |     0.9625      | \n",
      "     1      |     42     |     0.3585      |      0.955      | \n",
      "     1      |     43     |     0.3719      |     0.9425      | \n",
      "     1      |     44     |     0.3404      |     0.9775      | \n",
      "     1      |     45     |     0.3705      |     0.9425      | \n",
      "     1      |     46     |     0.3738      |      0.935      | \n",
      "     1      |     47     |     0.3497      |      0.965      | \n",
      "     1      |     48     |     0.3407      |     0.9675      | \n",
      "     1      |     49     |     0.3427      |     0.9675      | \n",
      "     1      |     50     |     0.3309      |     0.9825      | \n",
      "     1      |     51     |     0.3424      |     0.9725      | \n",
      "     1      |     52     |     0.3416      |     0.9725      | \n",
      "     1      |     53     |     0.3453      |     0.9675      | \n",
      "     1      |     54     |     0.3509      |      0.96       | \n",
      "     1      |     55     |     0.3321      |      0.98       | \n",
      "     1      |     56     |     0.3541      |     0.9575      | \n",
      "     1      |     57     |     0.3465      |      0.965      | \n",
      "     1      |     58     |     0.3294      |      0.985      | \n",
      "     1      |     59     |     0.3281      |      0.987      | \n",
      "     2      |     0      |     0.3472      |      0.965      | \n",
      "     2      |     1      |     0.3486      |      0.965      | \n",
      "     2      |     2      |      0.338      |     0.9775      | \n",
      "     2      |     3      |     0.3323      |     0.9825      | \n",
      "     2      |     4      |     0.3387      |      0.975      | \n",
      "     2      |     5      |     0.3405      |      0.975      | \n",
      "     2      |     6      |     0.3399      |      0.975      | \n",
      "     2      |     7      |     0.3398      |      0.975      | \n",
      "     2      |     8      |     0.3292      |      0.985      | \n",
      "     2      |     9      |     0.3374      |      0.975      | \n",
      "     2      |     10     |      0.336      |     0.9775      | \n",
      "     2      |     11     |     0.3265      |     0.9875      | \n",
      "     2      |     12     |     0.3339      |      0.98       | \n",
      "     2      |     13     |     0.3287      |      0.985      | \n",
      "     2      |     14     |     0.3392      |      0.975      | \n",
      "     2      |     15     |      0.332      |     0.9825      | \n",
      "     2      |     16     |     0.3439      |     0.9675      | \n",
      "     2      |     17     |     0.3452      |     0.9675      | \n",
      "     2      |     18     |      0.334      |      0.98       | \n",
      "     2      |     19     |      0.34       |     0.9725      | \n",
      "     2      |     20     |     0.3754      |      0.935      | \n",
      "     2      |     21     |     0.3529      |      0.96       | \n",
      "     2      |     22     |      0.341      |      0.97       | \n",
      "     2      |     23     |     0.3379      |     0.9775      | \n",
      "     2      |     24     |     0.3459      |      0.965      | \n",
      "     2      |     25     |     0.3246      |      0.99       | \n",
      "     2      |     26     |     0.3351      |     0.9775      | \n",
      "     2      |     27     |     0.3379      |      0.975      | \n",
      "     2      |     28     |     0.3468      |     0.9675      | \n",
      "     2      |     29     |     0.3338      |      0.98       | \n",
      "     2      |     30     |     0.3376      |     0.9725      | \n",
      "     2      |     31     |     0.3223      |     0.9925      | \n",
      "     2      |     32     |     0.3383      |      0.975      | \n",
      "     2      |     33     |      0.329      |     0.9825      | \n",
      "     2      |     34     |     0.3402      |     0.9725      | \n",
      "     2      |     35     |     0.3248      |     0.9875      | \n",
      "     2      |     36     |     0.3277      |     0.9875      | \n",
      "     2      |     37     |     0.3311      |     0.9825      | \n",
      "     2      |     38     |     0.3256      |     0.9875      | \n",
      "     2      |     39     |     0.3474      |      0.965      | \n",
      "     2      |     40     |     0.3219      |     0.9925      | \n",
      "     2      |     41     |     0.3414      |     0.9725      | \n",
      "     2      |     42     |     0.3466      |     0.9675      | \n",
      "     2      |     43     |     0.3417      |      0.97       | \n",
      "     2      |     44     |     0.3277      |      0.985      | \n",
      "     2      |     45     |     0.3528      |      0.96       | \n",
      "     2      |     46     |     0.3385      |      0.975      | \n",
      "     2      |     47     |     0.3402      |     0.9725      | \n",
      "     2      |     48     |     0.3336      |     0.9775      | \n",
      "     2      |     49     |     0.3435      |     0.9725      | \n",
      "     2      |     50     |     0.3378      |     0.9775      | \n",
      "     2      |     51     |     0.3439      |      0.97       | \n",
      "     2      |     52     |     0.3337      |      0.98       | \n",
      "     2      |     53     |     0.3404      |     0.9725      | \n",
      "     2      |     54     |     0.3643      |     0.9475      | \n",
      "     2      |     55     |     0.3488      |     0.9625      | \n",
      "     2      |     56     |     0.3386      |     0.9725      | \n",
      "     2      |     57     |     0.3363      |     0.9775      | \n",
      "     2      |     58     |     0.3407      |     0.9725      | \n",
      "     2      |     59     |     0.3331      |     0.9826      | \n",
      "Done finish training.\n"
     ]
    },
    {
     "data": {
      "text/plain": [
       "[<matplotlib.lines.Line2D at 0x7fb941b9db50>]"
      ]
     },
     "execution_count": 337,
     "metadata": {},
     "output_type": "execute_result"
    },
    {
     "data": {
      "image/png": "[encoded data removed]",
      "text/plain": [
       "<Figure size 640x480 with 1 Axes>"
      ]
     },
     "metadata": {},
     "output_type": "display_data"
    }
   ],
   "source": [
    "model = CNN()\n",
    "optimizer = torch.optim.Adam(model.parameters(), lr=0.01)\n",
    "criterion = nn.CrossEntropyLoss()\n",
    "\n",
    "loss_train = train(model=model, optimizer=optimizer, epoch=2, criterion=criterion)\n",
    "plt.plot(loss_train)"
   ]
  },
  {
   "cell_type": "code",
   "execution_count": 340,
   "id": "3522db5f",
   "metadata": {},
   "outputs": [
    {
     "name": "stdout",
     "output_type": "stream",
     "text": [
      "              precision    recall  f1-score   support\n",
      "\n",
      "           0       0.99      0.98      0.99      5099\n",
      "           1       0.71      0.87      0.78       265\n",
      "\n",
      "    accuracy                           0.98      5364\n",
      "   macro avg       0.85      0.93      0.88      5364\n",
      "weighted avg       0.98      0.98      0.98      5364\n",
      "\n",
      "The average accuracy in test data is 0.9759507829977628\n",
      "The average F1-score in test data is 0.9759507829977628\n"
     ]
    }
   ],
   "source": [
    "# model evaluation\n",
    "evaluate(model, criterion)"
   ]
  },
  {
   "cell_type": "markdown",
   "id": "319a1cae",
   "metadata": {},
   "source": [
    "#### Appendix: A Job Description on LinkedIn"
   ]
  },
  {
   "cell_type": "code",
   "execution_count": 344,
   "id": "55c89968",
   "metadata": {},
   "outputs": [],
   "source": [
    "# refonte infini test\n",
    "refonte_jd = \"\"\"\n",
    "\n",
    "About the job\n",
    "Refonte Infini is a leading IT corporation globally recognized for its expertise in providing top-notch IT and Ed-tech services. Specializing in Artificial intelligence (AI), digital marketing, data science, data analytics, UI-UX design, web development, and app development, we are dedicated to innovation, excellence, and empowering talents worldwide.\n",
    "\n",
    "\n",
    "Job Title: AI, Data Science, DevOps, and Cloud Intern\n",
    "\n",
    "\n",
    "Benefits:\n",
    "\n",
    "This internship offers an exciting opportunity to gain practical experience in AI, Data Science, DevOps, and Cloud technologies, working on impactful projects and contributing to the development of innovative solutions. If you are enthusiastic about technology and eager to learn, we encourage you to apply and join our team.\n",
    "\n",
    "\n",
    "Learn More: https://refontelearning.com\n",
    "\n",
    "\n",
    "\n",
    "Job Summary:\n",
    "\n",
    "\n",
    "\n",
    "Refonte Learning is seeking enthusiastic individuals for our prestigious AI & Data Science Study and Internship Program. This intensive initiative offers a unique opportunity to collaborate closely with our seasoned AI & data science team on diverse and impactful projects.\n",
    "\n",
    "\n",
    "Refonte Learning is seeking enthusiastic individuals who are looking to learn AI & Data Science from beginning to advanced level while also working on live projects globally. RIGTIP (Refonte Infini Global Training & Internship Program) is designed as a manner that offers you to work in a flexible work environment but also offers working with people in a global team from Oceania, Asia, Europe and American continents.\n",
    "\n",
    "\n",
    "Job Description:\n",
    "\n",
    "We are excited to offer an internship opportunity for individuals passionate about the convergence of AI, Data Science, DevOps, and Cloud technologies. As an AI, Data Science, DevOps, and Cloud Intern, you will have the unique opportunity to gain hands-on experience in these dynamic and interconnected fields, working on innovative projects and collaborating with experienced professionals.\n",
    "\n",
    "\n",
    "Responsibilities:\n",
    "\n",
    "Collaborate with cross-functional teams to develop, deploy, and maintain AI-driven solutions.\n",
    "Assist in collecting, cleaning, and analyzing data from various sources to derive actionable insights.\n",
    "Contribute to the design and implementation of scalable data pipelines for model training and deployment.\n",
    "Support the integration of machine learning models into production systems using DevOps best practices.\n",
    "Participate in designing and optimizing CI/CD pipelines for continuous integration, testing, and deployment of AI applications on cloud platforms.\n",
    "Assist in infrastructure provisioning, configuration, and monitoring using cloud services such as AWS, Azure, or Google Cloud.\n",
    "Work closely with data scientists and engineers to understand business requirements and translate them into technical solutions.\n",
    "Research and experiment with emerging technologies and tools in AI, Data Science, DevOps, and Cloud domains.\n",
    "Collaborate on documentation efforts to ensure knowledge sharing and best practices across the team.\n",
    "\n",
    "\n",
    "Projects You Will Work On:\n",
    "\n",
    "- Multi Cloud AI Infrastructure Configuration, Automation and Deployment\n",
    "- Full Stack AI DevOps & Development\n",
    "- Generative AI model, Large Language Models and Foundations models to transform input to output.\n",
    "NB: Input can be text, images, audios or videos; Output can also be text, images, audios or videos\n",
    "- Finance Fraud Detection: Develop advanced fraud detection algorithms leveraging financial data analysis.\n",
    "- Recommender System: Contribute to personalized recommendation systems, enhancing user experiences across platforms.\n",
    "- Sentiment Analysis: Explore sentiment analysis to extract insights from textual data, shaping user sentiment understanding.\n",
    "- Chatbots: Engage in intelligent chatbot development, revolutionizing customer interactions and support.\n",
    "- Image/Audio Video Classification: Push boundaries with multimedia technology by working on image and audio video classification projects.\n",
    "- Text Analysis: Uncover hidden patterns in textual data through sophisticated text analysis techniques.\n",
    "\n",
    "\n",
    "Roles & Responsibilities:\n",
    "\n",
    "- Collaborate with our esteemed AI & data science experts to collect, clean, and analyze extensive datasets, honing skills in data preprocessing and visualization.\n",
    "- Contribute to the development of predictive models and algorithms, employing cutting-edge machine learning techniques to solve real-world challenges.\n",
    "- Work closely with team members to design, implement, and evaluate experiments, fostering a collaborative and innovative environment.\n",
    "- Stay updated with the latest industry trends and best practices in data science, applying newfound knowledge to enhance project outcomes.\n",
    "Qualifications:\n",
    "- Currently pursuing any degree showcasing a strong commitment to continuous learning and professional growth.\n",
    "- Exceptional written and verbal communication skills, vital for effective collaboration and articulation of complex ideas.\n",
    "- Demonstrated ability to work both independently and as part of a cohesive team, highlighting adaptability and strong teamwork capabilities.\n",
    "\n",
    "\n",
    "Benefits:\n",
    "\n",
    "\n",
    "\n",
    "This internship offers an exciting opportunity to gain practical experience in AI, Data Science, DevOps, and Cloud technologies, working on impactful projects and contributing to the development of innovative solutions. If you are enthusiastic about technology and eager to learn, we encourage you to apply and join our team.\n",
    "\n",
    "\n",
    "Note:\n",
    "\n",
    "This position is part of our unpaid AI & Data Science Study and Internship Program. Upon application, our team will contact you to proceed with the application details and joining process.\n",
    "\n",
    "\n",
    "Location:\n",
    "\n",
    "Remote, United States\n",
    "\n",
    "\n",
    "Contact:\n",
    "\n",
    "To explore the exciting world of data science with us, please contact us at admin@refontelearning.com\n",
    "Thank you for considering Refonte Infini Private Limited for your professional development in the field of data science. We look forward to welcoming you to our dynamic team.\n",
    "\"\"\""
   ]
  },
  {
   "cell_type": "code",
   "execution_count": 346,
   "id": "5bda5cb6",
   "metadata": {
    "scrolled": true
   },
   "outputs": [
    {
     "data": {
      "text/plain": [
       "'about the job refonte infini leading corporation globally recognized for its expertise providing top notch and tech services specializing artificial intelligence digital marketing data science data analytics design web development and app development are dedicated innovation excellence and empowering talents worldwide job title data science dev ops and cloud intern benefits this internship offers exciting opportunity gain practical experience data science dev ops and cloud technologies working impactful projects and contributing the development innovative solutions you are enthusiastic about technology and eager learn encourage you apply and join our team learn more job summary refonte learning seeking enthusiastic individuals for our prestigious data science study and internship program this intensive initiative offers unique opportunity collaborate closely with our seasoned data science team diverse and impactful projects refonte learning seeking enthusiastic individuals who are looking learn data science from beginning advanced level while also working live projects globally rigtip refonte infini global training internship program designed manner that offers you work flexible work environment but also offers working with people global team from oceania asia europe and american continents job description are excited offer internship opportunity for individuals passionate about the convergence data science dev ops and cloud technologies data science dev ops and cloud intern you will have the unique opportunity gain hands experience these dynamic and interconnected fields working innovative projects and collaborating with experienced professionals responsibilities collaborate with cross functional teams develop deploy and maintain driven solutions assist collecting cleaning and analyzing data from various sources derive actionable insights contribute the design and implementation scalable data pipelines for model training and deployment support the integration machine learning models into production systems using dev ops best practices participate designing and optimizing pipelines for continuous integration testing and deployment applications cloud platforms assist infrastructure provisioning configuration and monitoring using cloud services such aws azure google cloud work closely with data scientists and engineers understand business requirements and translate them into technical solutions research and experiment with emerging technologies and tools data science dev ops and cloud domains collaborate documentation efforts ensure knowledge sharing and best practices across the team projects you will work multi cloud infrastructure configuration automation and deployment full stack dev ops development generative model large language models and foundations models transform input output input can text images audios videos output can also text images audios videos finance fraud detection develop advanced fraud detection algorithms leveraging financial data analysis recommender system contribute personalized recommendation systems enhancing user experiences across platforms sentiment analysis explore sentiment analysis extract insights from textual data shaping user sentiment understanding chatbots engage intelligent chatbot development revolutionizing customer interactions and support image audio video classification push boundaries with multimedia technology working image and audio video classification projects text analysis uncover hidden patterns textual data through sophisticated text analysis techniques roles responsibilities collaborate with our esteemed data science experts collect clean and analyze extensive datasets honing skills data preprocessing and visualization contribute the development predictive models and algorithms employing cutting edge machine learning techniques solve real world challenges work closely with team members design implement and evaluate experiments fostering collaborative and innovative environment stay updated with the latest industry trends and best practices data science applying newfound knowledge enhance project outcomes qualifications currently pursuing any degree showcasing strong commitment continuous learning and professional growth exceptional written and verbal communication skills vital for effective collaboration and articulation complex ideas demonstrated ability work both independently and part cohesive team highlighting adaptability and strong teamwork capabilities benefits this internship offers exciting opportunity gain practical experience data science dev ops and cloud technologies working impactful projects and contributing the development innovative solutions you are enthusiastic about technology and eager learn encourage you apply and join our team note this position part our unpaid data science study and internship program upon application our team will contact you proceed with the application details and joining process location remote united states contact explore the exciting world data science with please contact admin refontelearning com thank you for considering refonte infini private limited for your professional development the field data science look forward welcoming you our dynamic team'"
      ]
     },
     "execution_count": 346,
     "metadata": {},
     "output_type": "execute_result"
    }
   ],
   "source": [
    "import regex as re\n",
    "\n",
    "def text_preprocessing(text):\n",
    "    text = re.sub(r'([a-z])([A-Z]|[0-9])', r'\\1 \\2', text) # deal with concated words such as \"MyJob\"\n",
    "    text = re.sub(r'https?:?[\\S]+', ' ', text) # deal with URL\n",
    "    text = re.sub(r'#?URL[\\S]+', ' ', text) # deal with \"#URL_abcdefg\"\n",
    "    text = re.sub(r'[_]+', ' ', text) # deal with \"_\"\n",
    "    \n",
    "    text = re.sub(r'\\W', ' ', text) # just remain the alphanumeric characters\n",
    "    \n",
    "    word_list = []\n",
    "    for word in text.split():\n",
    "        word = word.lower()\n",
    "        if len(word) <= 2 or \\\n",
    "            re.findall(r'^[0-9]+', word) or \\\n",
    "            word == 'nan':\n",
    "                continue\n",
    "        \n",
    "        word_list.append(word)\n",
    "    \n",
    "    return ' '.join(word_list)\n",
    "\n",
    "refonte_jd = text_preprocessing(refonte_jd)\n",
    "refonte_jd"
   ]
  },
  {
   "cell_type": "code",
   "execution_count": 354,
   "id": "332527c4",
   "metadata": {},
   "outputs": [
    {
     "data": {
      "text/plain": [
       "array([[258,  22, 189, ...,   0,   0,   0]])"
      ]
     },
     "execution_count": 354,
     "metadata": {},
     "output_type": "execute_result"
    }
   ],
   "source": [
    "refonte_jd = text_adjust_encode([list(refonte_jd.split())], word2idx, max_len)\n",
    "refonte_jd"
   ]
  },
  {
   "cell_type": "code",
   "execution_count": 361,
   "id": "4ee81325",
   "metadata": {},
   "outputs": [],
   "source": [
    "refonte_dataloader = generate_dataloader(refonte_jd, [1])"
   ]
  },
  {
   "cell_type": "code",
   "execution_count": 372,
   "id": "33f4d533",
   "metadata": {},
   "outputs": [
    {
     "name": "stdout",
     "output_type": "stream",
     "text": [
      "The probability of scam job is 0.00% and real job is 100.00%\n"
     ]
    }
   ],
   "source": [
    "with torch.no_grad():\n",
    "    for i, (x, y) in enumerate(refonte_dataloader):\n",
    "        logit = model(x)\n",
    "        pred = torch.softmax(logit, dim=1)\n",
    "        print(f\"The probability of scam job is {pred[0][1]:.2%} and real job is {pred[0][0]:.2%}\")"
   ]
  }
 ],
 "metadata": {
  "kernelspec": {
   "display_name": "Python 3",
   "language": "python",
   "name": "python3"
  },
  "language_info": {
   "codemirror_mode": {
    "name": "ipython",
    "version": 3
   },
   "file_extension": ".py",
   "mimetype": "text/x-python",
   "name": "python",
   "nbconvert_exporter": "python",
   "pygments_lexer": "ipython3",
   "version": "3.8.18"
  }
 },
 "nbformat": 4,
 "nbformat_minor": 5
}
